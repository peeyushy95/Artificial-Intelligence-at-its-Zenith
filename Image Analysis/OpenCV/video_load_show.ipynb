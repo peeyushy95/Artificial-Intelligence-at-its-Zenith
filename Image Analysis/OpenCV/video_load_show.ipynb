{
 "cells": [
  {
   "cell_type": "code",
   "execution_count": 5,
   "metadata": {
    "collapsed": true
   },
   "outputs": [],
   "source": [
    "import cv2\n",
    "import os"
   ]
  },
  {
   "cell_type": "markdown",
   "metadata": {},
   "source": [
    "Default Webcam is 0"
   ]
  },
  {
   "cell_type": "code",
   "execution_count": 6,
   "metadata": {},
   "outputs": [],
   "source": [
    "videoObject = cv2.VideoCapture(0)"
   ]
  },
  {
   "cell_type": "markdown",
   "metadata": {},
   "source": [
    "capturing frames"
   ]
  },
  {
   "cell_type": "code",
   "execution_count": 7,
   "metadata": {},
   "outputs": [],
   "source": [
    "j =0\n",
    "i =0\n",
    "videoObject.set(cv2.CAP_PROP_FRAME_WIDTH, 360)\n",
    "videoObject.set(cv2.CAP_PROP_FRAME_HEIGHT, 480)\n",
    "os.chdir(\"images\")\n",
    "while True :\n",
    "    j+=1\n",
    "    ret, frame = videoObject.read()\n",
    "    cv2.imshow('Video', frame)\n",
    "    if j > 50 : \n",
    "        j = 0\n",
    "        i+=1\n",
    "        cv2.imwrite(\"im\" + str(i) + \".jpeg\", frame)\n",
    "    if cv2.waitKey(1) & 0xFF == ord('q'):\n",
    "        break"
   ]
  },
  {
   "cell_type": "code",
   "execution_count": null,
   "metadata": {},
   "outputs": [],
   "source": [
    "videoObject.release()\n",
    "cv2.destroyAllWindows()"
   ]
  }
 ],
 "metadata": {
  "kernelspec": {
   "display_name": "Python 3",
   "language": "python",
   "name": "python3"
  },
  "language_info": {
   "codemirror_mode": {
    "name": "ipython",
    "version": 3
   },
   "file_extension": ".py",
   "mimetype": "text/x-python",
   "name": "python",
   "nbconvert_exporter": "python",
   "pygments_lexer": "ipython3",
   "version": "3.6.1"
  }
 },
 "nbformat": 4,
 "nbformat_minor": 1
}
